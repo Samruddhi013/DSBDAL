{
 "cells": [
  {
   "cell_type": "code",
   "execution_count": null,
   "id": "42229112-770c-4b7a-8d39-d6c7531bea62",
   "metadata": {},
   "outputs": [],
   "source": []
  },
  {
   "cell_type": "code",
   "execution_count": 1,
   "id": "9a6012c0-0522-4ce7-84f8-3fe1c945772c",
   "metadata": {},
   "outputs": [],
   "source": [
    "import pandas as pd"
   ]
  },
  {
   "cell_type": "code",
   "execution_count": 2,
   "id": "8f453621-9b55-4d71-9c13-194a1f623844",
   "metadata": {},
   "outputs": [],
   "source": [
    "df = pd.read_csv('iris.csv')"
   ]
  },
  {
   "cell_type": "code",
   "execution_count": 7,
   "id": "d1b69288-5692-40b0-b899-ddf34befe06a",
   "metadata": {},
   "outputs": [],
   "source": [
    "summary_stats = df.groupby('Species')['PetalLengthCm'].describe()\n"
   ]
  },
  {
   "cell_type": "code",
   "execution_count": 8,
   "id": "e4adf841-1a39-4727-8742-9e0bb381951f",
   "metadata": {},
   "outputs": [
    {
     "name": "stdout",
     "output_type": "stream",
     "text": [
      "                 count   mean       std  min  25%   50%    75%  max\n",
      "Species                                                            \n",
      "Iris-setosa       50.0  1.464  0.173511  1.0  1.4  1.50  1.575  1.9\n",
      "Iris-versicolor   50.0  4.260  0.469911  3.0  4.0  4.35  4.600  5.1\n",
      "Iris-virginica    50.0  5.552  0.551895  4.5  5.1  5.55  5.875  6.9\n"
     ]
    }
   ],
   "source": [
    "print(summary_stats)\n"
   ]
  },
  {
   "cell_type": "code",
   "execution_count": 10,
   "id": "3a6206bb-d6d3-4cf9-a6ef-1c10d1d4a0e0",
   "metadata": {},
   "outputs": [],
   "source": [
    "setosa_data = df[df['Species'] == 'Iris-setosa']\n",
    "versicolor_data = df[df['Species'] == 'Iris-versicolor']\n",
    "virginica_data = df[df['Species'] == 'Iris-virginica']\n"
   ]
  },
  {
   "cell_type": "code",
   "execution_count": 11,
   "id": "b5173efa-7b7b-4ca4-ab4c-47364ef88cbf",
   "metadata": {},
   "outputs": [],
   "source": [
    "setosa_stats = setosa_data.describe()\n",
    "versicolor_stats = versicolor_data.describe()\n",
    "virginica_stats = virginica_data.describe()"
   ]
  },
  {
   "cell_type": "code",
   "execution_count": 12,
   "id": "70826a3c-0a7a-49cf-b398-48e15cea0d80",
   "metadata": {},
   "outputs": [
    {
     "name": "stdout",
     "output_type": "stream",
     "text": [
      "Iris-setosa statistics:\n",
      "             Id  SepalLengthCm  SepalWidthCm  PetalLengthCm  PetalWidthCm\n",
      "count  50.00000       50.00000     50.000000      50.000000      50.00000\n",
      "mean   25.50000        5.00600      3.418000       1.464000       0.24400\n",
      "std    14.57738        0.35249      0.381024       0.173511       0.10721\n",
      "min     1.00000        4.30000      2.300000       1.000000       0.10000\n",
      "25%    13.25000        4.80000      3.125000       1.400000       0.20000\n",
      "50%    25.50000        5.00000      3.400000       1.500000       0.20000\n",
      "75%    37.75000        5.20000      3.675000       1.575000       0.30000\n",
      "max    50.00000        5.80000      4.400000       1.900000       0.60000\n",
      "\n",
      "Iris-versicolor statistics:\n",
      "              Id  SepalLengthCm  SepalWidthCm  PetalLengthCm  PetalWidthCm\n",
      "count   50.00000      50.000000     50.000000      50.000000     50.000000\n",
      "mean    75.50000       5.936000      2.770000       4.260000      1.326000\n",
      "std     14.57738       0.516171      0.313798       0.469911      0.197753\n",
      "min     51.00000       4.900000      2.000000       3.000000      1.000000\n",
      "25%     63.25000       5.600000      2.525000       4.000000      1.200000\n",
      "50%     75.50000       5.900000      2.800000       4.350000      1.300000\n",
      "75%     87.75000       6.300000      3.000000       4.600000      1.500000\n",
      "max    100.00000       7.000000      3.400000       5.100000      1.800000\n",
      "\n",
      "Iris-virginica statistics:\n",
      "              Id  SepalLengthCm  SepalWidthCm  PetalLengthCm  PetalWidthCm\n",
      "count   50.00000       50.00000     50.000000      50.000000      50.00000\n",
      "mean   125.50000        6.58800      2.974000       5.552000       2.02600\n",
      "std     14.57738        0.63588      0.322497       0.551895       0.27465\n",
      "min    101.00000        4.90000      2.200000       4.500000       1.40000\n",
      "25%    113.25000        6.22500      2.800000       5.100000       1.80000\n",
      "50%    125.50000        6.50000      3.000000       5.550000       2.00000\n",
      "75%    137.75000        6.90000      3.175000       5.875000       2.30000\n",
      "max    150.00000        7.90000      3.800000       6.900000       2.50000\n"
     ]
    }
   ],
   "source": [
    "print(\"Iris-setosa statistics:\")\n",
    "print(setosa_stats)\n",
    "print(\"\\nIris-versicolor statistics:\")\n",
    "print(versicolor_stats)\n",
    "print(\"\\nIris-virginica statistics:\")\n",
    "print(virginica_stats)"
   ]
  },
  {
   "cell_type": "code",
   "execution_count": null,
   "id": "87db708a-73cd-4978-a83e-f7f9523fd10c",
   "metadata": {},
   "outputs": [],
   "source": []
  }
 ],
 "metadata": {
  "kernelspec": {
   "display_name": "Python 3 (ipykernel)",
   "language": "python",
   "name": "python3"
  },
  "language_info": {
   "codemirror_mode": {
    "name": "ipython",
    "version": 3
   },
   "file_extension": ".py",
   "mimetype": "text/x-python",
   "name": "python",
   "nbconvert_exporter": "python",
   "pygments_lexer": "ipython3",
   "version": "3.11.7"
  }
 },
 "nbformat": 4,
 "nbformat_minor": 5
}
